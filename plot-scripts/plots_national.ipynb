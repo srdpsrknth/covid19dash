{
 "cells": [
  {
   "cell_type": "code",
   "execution_count": 1,
   "metadata": {
    "ExecuteTime": {
     "end_time": "2021-09-12T08:35:03.743258Z",
     "start_time": "2021-09-12T08:35:02.911262Z"
    }
   },
   "outputs": [],
   "source": [
    "import plotly.express as px\n",
    "import plotly.graph_objects as go\n",
    "import numpy as np\n",
    "import pandas as pd\n",
    "import requests\n",
    "from pathlib import Path"
   ]
  },
  {
   "cell_type": "code",
   "execution_count": 2,
   "metadata": {
    "ExecuteTime": {
     "end_time": "2021-09-12T08:35:03.775078Z",
     "start_time": "2021-09-12T08:35:03.759032Z"
    }
   },
   "outputs": [],
   "source": [
    "CLEANPATH = Path.cwd().parent / 'clean-data' \n",
    "PLOTPATH = Path.cwd().parent / 'plots'\n",
    "HTMLPATH = Path.cwd().parent / 'plots' / 'html'\n",
    "df_ndaily = pd.read_csv(CLEANPATH /'national_daily_clean.csv',index_col=0)\n",
    "df_ncumu = pd.read_csv(CLEANPATH /'national_cumulative_clean.csv',index_col=0)"
   ]
  },
  {
   "cell_type": "code",
   "execution_count": 3,
   "metadata": {
    "ExecuteTime": {
     "end_time": "2021-09-12T08:35:03.809763Z",
     "start_time": "2021-09-12T08:35:03.807284Z"
    }
   },
   "outputs": [],
   "source": [
    "select = {'cumu':'Cumulative', 'daily':'Daily','total':'Confirmed', 'admitted':'Hospitalised', 'deaths':'Deaths'}"
   ]
  },
  {
   "cell_type": "code",
   "execution_count": 6,
   "metadata": {
    "ExecuteTime": {
     "end_time": "2021-09-12T08:35:23.959605Z",
     "start_time": "2021-09-12T08:35:23.950460Z"
    }
   },
   "outputs": [],
   "source": [
    "def nat_line_plot(dtype = 'cumu', param = 'total'):\n",
    "    if dtype == 'cumu':\n",
    "        df = df_ncumu\n",
    "    elif dtype == 'daily':\n",
    "        df = df_ndaily\n",
    "    else:\n",
    "        print(\"Incorrect input type. Choose dtype = 'cumu' or 'daily'\")\n",
    "        return\n",
    "\n",
    "    fig=go.Figure()\n",
    "\n",
    "    fig.add_trace(go.Bar(x=df['date'], y=df[param]))\n",
    "    fig.add_trace(go.Scatter(x=df['date'], y=df[param]))\n",
    "\n",
    "    fig.update_layout(\n",
    "        autosize=True,\n",
    "        margin=dict(t=20, b=0, l=0, r=0),\n",
    "        template=\"plotly_white\",)\n",
    "\n",
    "    fig.write_image(\"{}\".format(PLOTPATH / 'bar-line_national_{}_{}.png'.format(select[dtype],select[param])), engine=\"kaleido\",width=1920, height=1080)\n",
    "   # fig.write_html(\"{}\".format(HTMLPATH / 'bar-line_national_{}_{}.html'.format(select[dtype],select[param])))\n",
    "\n",
    "    #fig.show()"
   ]
  },
  {
   "cell_type": "code",
   "execution_count": 7,
   "metadata": {
    "ExecuteTime": {
     "end_time": "2021-09-12T08:35:32.432175Z",
     "start_time": "2021-09-12T08:35:30.230140Z"
    }
   },
   "outputs": [],
   "source": [
    "## GET LINE PLOTS FOR TOTAL RECORDED CASES, TOTAL ADMITTED, DEATHS - NATIONAL - CUMULATIVE###\n",
    "nat_line_plot(dtype = 'cumu', param = 'total')\n",
    "nat_line_plot(dtype = 'cumu', param = 'admitted')\n",
    "nat_line_plot(dtype = 'cumu', param = 'deaths')\n",
    "\n",
    "## GET LINE PLOTS FOR TOTAL RECORDED CASES, TOTAL ADMITTED, DEATHS - NATIONAL - DAILY###\n",
    "nat_line_plot(dtype = 'daily', param = 'total')\n",
    "nat_line_plot(dtype = 'daily', param = 'admitted')\n",
    "nat_line_plot(dtype = 'daily', param = 'deaths')"
   ]
  },
  {
   "cell_type": "code",
   "execution_count": null,
   "metadata": {},
   "outputs": [],
   "source": []
  }
 ],
 "metadata": {
  "kernelspec": {
   "display_name": "Python 3 (ipykernel)",
   "language": "python",
   "name": "python3"
  },
  "language_info": {
   "codemirror_mode": {
    "name": "ipython",
    "version": 3
   },
   "file_extension": ".py",
   "mimetype": "text/x-python",
   "name": "python",
   "nbconvert_exporter": "python",
   "pygments_lexer": "ipython3",
   "version": "3.8.3"
  },
  "varInspector": {
   "cols": {
    "lenName": 16,
    "lenType": 16,
    "lenVar": 40
   },
   "kernels_config": {
    "python": {
     "delete_cmd_postfix": "",
     "delete_cmd_prefix": "del ",
     "library": "var_list.py",
     "varRefreshCmd": "print(var_dic_list())"
    },
    "r": {
     "delete_cmd_postfix": ") ",
     "delete_cmd_prefix": "rm(",
     "library": "var_list.r",
     "varRefreshCmd": "cat(var_dic_list()) "
    }
   },
   "types_to_exclude": [
    "module",
    "function",
    "builtin_function_or_method",
    "instance",
    "_Feature"
   ],
   "window_display": false
  }
 },
 "nbformat": 4,
 "nbformat_minor": 4
}
