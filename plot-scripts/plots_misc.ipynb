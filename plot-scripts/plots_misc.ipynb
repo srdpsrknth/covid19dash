{
 "cells": [
  {
   "cell_type": "code",
   "execution_count": 1,
   "metadata": {},
   "outputs": [],
   "source": [
    "import plotly.express as px\n",
    "import plotly.graph_objects as go\n",
    "import numpy as np\n",
    "import pandas as pd\n",
    "import requests\n",
    "from pathlib import Path"
   ]
  },
  {
   "cell_type": "code",
   "execution_count": 2,
   "metadata": {},
   "outputs": [],
   "source": [
    "CLEANPATH = Path.cwd().parent / 'clean-data' \n",
    "PLOTPATH = Path.cwd().parent / 'plots'\n",
    "HTMLPATH = Path.cwd().parent / 'plots' / 'html'\n",
    "df_r = pd.read_csv(CLEANPATH /'reproduction_clean.csv',index_col=0)\n",
    "df_cont = pd.read_csv(CLEANPATH /'contagious_clean.csv',index_col=0)"
   ]
  },
  {
   "cell_type": "code",
   "execution_count": 3,
   "metadata": {},
   "outputs": [],
   "source": [
    "def repro_plt(df):\n",
    "    date = df['date']\n",
    "    date_rev = date[::-1]\n",
    "    Ravg = df['R_avg']\n",
    "    Rlow = df['R_min']\n",
    "    Rup = df['R_high']\n",
    "    Rlow_rev = Rlow[::-1]\n",
    "    \n",
    "    fig = go.Figure()\n",
    "\n",
    "    fig.add_trace(go.Scatter(\n",
    "        x=date, y=Ravg,\n",
    "        line_color='red',\n",
    "        name='Mid line',\n",
    "    ))\n",
    "    fig.add_trace(go.Scatter(\n",
    "        x=date,\n",
    "        y=Rup,\n",
    "        line_color='yellow',\n",
    "\n",
    "    ))\n",
    "\n",
    "    fig.add_trace(go.Scatter(\n",
    "        x=date,\n",
    "        y=Rlow,\n",
    "        line_color='yellow',\n",
    "        fill='tonextx'\n",
    "    ))\n",
    "    fig.update_traces(mode='lines')\n",
    "    \n",
    "    fig.write_image(\"{}\".format(PLOTPATH / 'reproduction_line.png'), engine=\"kaleido\",width=1920, height=1080)\n",
    "    fig.write_html(\"{}\".format(HTMLPATH / 'reproduction_line.html'))\n",
    "\n",
    "    #fig.show()"
   ]
  },
  {
   "cell_type": "code",
   "execution_count": 4,
   "metadata": {},
   "outputs": [],
   "source": [
    "repro_plt(df_r)"
   ]
  },
  {
   "cell_type": "code",
   "execution_count": null,
   "metadata": {},
   "outputs": [],
   "source": []
  }
 ],
 "metadata": {
  "kernelspec": {
   "display_name": "Python 3",
   "language": "python",
   "name": "python3"
  },
  "language_info": {
   "codemirror_mode": {
    "name": "ipython",
    "version": 3
   },
   "file_extension": ".py",
   "mimetype": "text/x-python",
   "name": "python",
   "nbconvert_exporter": "python",
   "pygments_lexer": "ipython3",
   "version": "3.8.3"
  }
 },
 "nbformat": 4,
 "nbformat_minor": 4
}
