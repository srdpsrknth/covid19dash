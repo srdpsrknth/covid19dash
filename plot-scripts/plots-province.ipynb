{
 "cells": [
  {
   "cell_type": "code",
   "execution_count": 1,
   "metadata": {
    "ExecuteTime": {
     "end_time": "2021-09-12T08:33:36.261216Z",
     "start_time": "2021-09-12T08:33:35.392954Z"
    }
   },
   "outputs": [],
   "source": [
    "import plotly\n",
    "import plotly.express as px\n",
    "import plotly.graph_objects as go\n",
    "import numpy as np\n",
    "import pandas as pd\n",
    "import requests\n",
    "from pathlib import Path"
   ]
  },
  {
   "cell_type": "code",
   "execution_count": 2,
   "metadata": {
    "ExecuteTime": {
     "end_time": "2021-09-12T08:33:36.272482Z",
     "start_time": "2021-09-12T08:33:36.268062Z"
    }
   },
   "outputs": [],
   "source": [
    "CLEANPATH = Path.cwd().parent / 'clean-data' \n",
    "PLOTPATH = Path.cwd().parent / 'plots'\n",
    "HTMLPATH = Path.cwd().parent / 'plots' / 'html'\n",
    "nl_geojson=r\"the-netherlands.geojson\"\n",
    "nl_geojson2=r\"/Users/srdpsrknth/OneDrive/CovidDash/covid19dash/external/the-netherlands.geojson\"\n",
    "nl_geojson3=r\"the-netherlands.json\"\n",
    "nl_geojson4=r\"/Users/srdpsrknth/OneDrive/CovidDash/covid19dash/plot-scripts/the-netherlands.json\""
   ]
  },
  {
   "cell_type": "code",
   "execution_count": 3,
   "metadata": {
    "ExecuteTime": {
     "end_time": "2021-09-12T08:33:37.014896Z",
     "start_time": "2021-09-12T08:33:37.010014Z"
    }
   },
   "outputs": [],
   "source": [
    "select = {'cumu':'Cumulative', 'daily':'Daily','total':'Confirmed', 'admitted':'Hospitalised', 'deaths':'Deaths'}"
   ]
  },
  {
   "cell_type": "code",
   "execution_count": 4,
   "metadata": {
    "ExecuteTime": {
     "end_time": "2021-09-12T08:33:37.718564Z",
     "start_time": "2021-09-12T08:33:37.692036Z"
    },
    "scrolled": true
   },
   "outputs": [],
   "source": [
    "df_cumu = pd.read_csv(CLEANPATH /'province_cumulative_clean.csv',index_col=0)\n",
    "df_daily = pd.read_csv(CLEANPATH /'province_daily_clean.csv',index_col=0)"
   ]
  },
  {
   "cell_type": "code",
   "execution_count": 5,
   "metadata": {
    "ExecuteTime": {
     "end_time": "2021-09-12T08:33:38.261367Z",
     "start_time": "2021-09-12T08:33:38.255728Z"
    }
   },
   "outputs": [],
   "source": [
    "province_list = df_cumu['province'].unique()\n",
    "prov_series=pd.Series(province_list)"
   ]
  },
  {
   "cell_type": "code",
   "execution_count": 6,
   "metadata": {
    "ExecuteTime": {
     "end_time": "2021-09-12T08:33:38.950732Z",
     "start_time": "2021-09-12T08:33:38.938745Z"
    },
    "scrolled": true
   },
   "outputs": [],
   "source": [
    "def province_line_plot(dtype = 'cumu', param = 'total'):    \n",
    "    if dtype == 'cumu':\n",
    "        df = df_cumu\n",
    "    elif dtype == 'daily':\n",
    "        df = df_daily\n",
    "    else:\n",
    "        print(\"Incorrect input type. Choose dtype = 'cumu' or 'daily'\")\n",
    "        return\n",
    "    \n",
    "    fig=go.Figure()\n",
    "\n",
    "    for prov in province_list:\n",
    "        fig.add_trace(\n",
    "            go.Scatter(\n",
    "                x=df.query(\"province=='{}'\".format(prov))['date'],\n",
    "                y=df.query(\"province=='{}'\".format(prov))[param],\n",
    "                name = prov\n",
    "            )\n",
    "        )\n",
    "\n",
    "    button_all = dict(label = 'All',\n",
    "                          method = 'update',\n",
    "                          args = [{'visible': ((df['province'].unique())==(province_list)),\n",
    "                                   'title': 'All',\n",
    "                                   'showlegend':True}])    \n",
    "\n",
    "    def create_layout_button(prov):\n",
    "            return dict(label = prov,\n",
    "                        method = 'update',\n",
    "                        args = [{'visible': [p == prov for p in province_list],\n",
    "                                 'title': prov,\n",
    "                                 'showlegend': True}])\n",
    "\n",
    "    fig.update_layout(autosize=True,\n",
    "                      template=\"plotly_white\",\n",
    "                      title = \"{} - {}\".format(select[dtype], select[param])\n",
    "                     )\n",
    "\n",
    "    fig.update_layout(\n",
    "            updatemenus=[go.layout.Updatemenu(\n",
    "                active = 0,\n",
    "                buttons = [button_all] + list(prov_series.map(lambda prov: create_layout_button(prov)))\n",
    "                )\n",
    "            ])\n",
    "\n",
    "    fig.write_image(\"{}\".format(PLOTPATH / 'province_{}_{}.png'.format(select[dtype],select[param])),\n",
    "                    engine=\"kaleido\", width=1920, height=1080)\n",
    "    #fig.write_html(\"{}\".format(HTMLPATH / 'province_{}_{}.html'.format(select[dtype],select[param])))\n",
    "    #fig.write_html(\"{}\".format(HTMLPATH / 'ZZprovince_{}_{}.html'.format(select[dtype],select[param])),full_html=False,\n",
    "                #include_plotlyjs='cdn')\n",
    "\n",
    "    #fig.show()"
   ]
  },
  {
   "cell_type": "code",
   "execution_count": 7,
   "metadata": {
    "ExecuteTime": {
     "end_time": "2021-09-12T08:33:39.570612Z",
     "start_time": "2021-09-12T08:33:39.561635Z"
    }
   },
   "outputs": [],
   "source": [
    "def province_facet(dtype = 'cumu', param = 'total'):    \n",
    "    if dtype == 'cumu':\n",
    "        s = 'Cumulative'\n",
    "        df = df_cumu\n",
    "    elif dtype == 'daily':\n",
    "        s = 'Daily'\n",
    "        df = df_daily\n",
    "    else:\n",
    "        print(\"Incorrect input type. Choose dtype = 'cumu' or 'daily'\")\n",
    "        return\n",
    "    \n",
    "    date_latest = df['date'].max()\n",
    "    df_latest = df[df['date']==date_latest]\n",
    "    \n",
    "\n",
    "    fig = px.line(x=df['date'], y=df[param], facet_col=df['province'],facet_col_wrap=3,color=df['province'])\n",
    "    fig.for_each_annotation(lambda a: a.update(text=a.text.split(\"=\")[-1]))\n",
    "\n",
    "    fig.update_layout(\n",
    "        autosize=True,\n",
    "        title = \"{} Facet Plots per province - {}\".format(select[dtype], select[param]),\n",
    "        template=\"plotly_white\")\n",
    "\n",
    "    fig.write_image(\"{}\".format(PLOTPATH / 'province_facet_{}_{}.png'.format(select[dtype],select[param])), engine=\"kaleido\",width=1920, height=1080)\n",
    "    #fig.write_html(\"{}\".format(HTMLPATH / 'province_facet_{}_{}.html'.format(select[dtype],select[param])))    \n",
    "\n",
    "    #fig.show()"
   ]
  },
  {
   "cell_type": "code",
   "execution_count": 8,
   "metadata": {
    "ExecuteTime": {
     "end_time": "2021-09-12T08:33:40.153759Z",
     "start_time": "2021-09-12T08:33:40.146958Z"
    }
   },
   "outputs": [],
   "source": [
    "def nl_choropleth_animated(df, param, splits=10):\n",
    "    date_start = df['date'].min()\n",
    "    date_end = df['date'].max()\n",
    "    r_min = df[param].min()\n",
    "    r_max = df[param].max()\n",
    "    \n",
    "    dates = pd.date_range(start=date_start, end=date_end,periods=splits).strftime(\"%Y-%m-%d\")\n",
    "    \n",
    "    fig = px.choropleth_mapbox(df[df['date'].isin(dates)], geojson=nl_geojson,\n",
    "                            locations='province', color=param,\n",
    "                            featureidkey=\"properties.name\",\n",
    "                            color_continuous_scale=\"YlOrRd\",\n",
    "                            range_color=(r_min,r_max),\n",
    "                            mapbox_style=\"light\",\n",
    "                            zoom=6,\n",
    "                            center = {\"lat\": 52.1326, \"lon\": 5.2913},\n",
    "                            opacity=0.7,\n",
    "                            animation_frame=df[df['date'].isin(dates)]['date']\n",
    "                           )\n",
    "\n",
    "    fig.update_layout(\n",
    "        width=1920,\n",
    "        height=1080,\n",
    "        autosize=True,\n",
    "        margin=dict(t=20, b=0, l=0, r=0)\n",
    "    )\n",
    "\n",
    "    fig.update_layout(mapbox_accesstoken=\"pk.eyJ1IjoiendlaWxvdXMiLCJhIjoiY2tpaXdmZ3F4MTJ4djJwbXF5dnozeHk0eiJ9.HrPRH33LUQagKn4e_fd3oQ\")\n",
    "    #fig.write_html('province_choropleth.html') \n",
    "    #py.offline.plot(fig3, filename='test3.html')\n",
    "    #fig.show()"
   ]
  },
  {
   "cell_type": "code",
   "execution_count": 9,
   "metadata": {
    "ExecuteTime": {
     "end_time": "2021-09-12T08:33:40.727681Z",
     "start_time": "2021-09-12T08:33:40.717145Z"
    }
   },
   "outputs": [],
   "source": [
    "def nl_choropleth_latest(dtype = 'cumu', param = 'total'):\n",
    "    if dtype == 'cumu':\n",
    "        df = df_cumu\n",
    "    elif dtype == 'daily':\n",
    "        df = df_daily\n",
    "    else:\n",
    "        print(\"Incorrect input type. Choose dtype = 'cumu' or 'daily'\")\n",
    "        return\n",
    "    \n",
    "    \n",
    "    date_latest = df['date'].max()\n",
    "    \n",
    "    \n",
    "    df_latest = df[df['date']==date_latest]\n",
    "    r_min = df_latest[param].min()\n",
    "    r_max = df_latest[param].max()\n",
    "    \n",
    "    fig = px.choropleth_mapbox(df_latest, geojson=nl_geojson4,\n",
    "                            locations='province', color=param,\n",
    "                            featureidkey=\"properties.name\",\n",
    "                            color_continuous_scale=\"YlOrRd\",\n",
    "                            range_color=(r_min,r_max),\n",
    "                            mapbox_style=\"light\",\n",
    "                            zoom=7,\n",
    "                            center = {\"lat\": 52.1326, \"lon\": 5.2913},\n",
    "                            opacity=0.7\n",
    "                           )\n",
    "\n",
    "    fig.update_layout(\n",
    "        autosize=True,\n",
    "        margin=dict(t=20, b=0, l=0, r=0)\n",
    "    )\n",
    "\n",
    "    fig.update_layout(mapbox_accesstoken=\"pk.eyJ1IjoiendlaWxvdXMiLCJhIjoiY2tpaXdmZ3F4MTJ4djJwbXF5dnozeHk0eiJ9.HrPRH33LUQagKn4e_fd3oQ\") \n",
    "    \n",
    "    fig.write_image(\"{}\".format(PLOTPATH / 'nl_choropleth_{}_{}.png'.format(select[dtype],select[param])), width=1920, height=1080)\n",
    "    #fig.write_html(\"{}\".format(HTMLPATH / 'nl_choropleth_{}_{}.html'.format(select[dtype],select[param])))  \n",
    "    #fig.show()"
   ]
  },
  {
   "cell_type": "code",
   "execution_count": 10,
   "metadata": {
    "ExecuteTime": {
     "end_time": "2021-09-12T08:33:41.309268Z",
     "start_time": "2021-09-12T08:33:41.299469Z"
    }
   },
   "outputs": [],
   "source": [
    "def province_choropleth_facet(dtype = 'cumu', param = 'total'):    \n",
    "    if dtype == 'cumu':\n",
    "        s = 'Cumulative'\n",
    "        df = df_cumu\n",
    "    elif dtype == 'daily':\n",
    "        s = 'Daily'\n",
    "        df = df_daily\n",
    "    else:\n",
    "        print(\"Incorrect input type. Choose dtype = 'cumu' or 'daily'\")\n",
    "        return\n",
    "    \n",
    "    date_latest = df['date'].max()\n",
    "    df_latest = df[df['date']==date_latest]\n",
    "    df_latest = df_latest.melt(id_vars = ['date','province'], value_vars = ['total','admitted','deaths'])\n",
    "\n",
    "    fig = px.choropleth(df_latest, geojson=nl_geojson,\n",
    "                            locations='province', color='value',\n",
    "                            featureidkey=\"properties.name\",\n",
    "                            color_continuous_scale=\"YlOrRd\",\n",
    "                            facet_col='variable',\n",
    "                            scope='europe',\n",
    "                            projection=\"mercator\"\n",
    "                           )\n",
    "    \n",
    "    fig.update_geos(fitbounds=\"locations\", visible=True)\n",
    "    \n",
    "    fig.update_layout(\n",
    "        autosize=True,\n",
    "        margin=dict(t=20, b=0, l=0, r=0)\n",
    "    )\n",
    "\n",
    "    #fig.write_image(\"{}\".format(PLOTPATH / 'province_facet_{}_{}.png'.format(dtype,param)), engine=\"kaleido\",width=1920, height=1080)\n",
    "    #fig.write_html(\"{}\".format(HTMLPATH / 'province_facet_{}_{}.html'.format(dtype,param)))    \n",
    "\n",
    "    #fig.show()"
   ]
  },
  {
   "cell_type": "code",
   "execution_count": 11,
   "metadata": {
    "ExecuteTime": {
     "end_time": "2021-09-12T08:34:02.932655Z",
     "start_time": "2021-09-12T08:33:42.544276Z"
    }
   },
   "outputs": [
    {
     "name": "stderr",
     "output_type": "stream",
     "text": [
      "/var/folders/2x/yhx8z7x530jbhg47wgxg5p5w0000gn/T/ipykernel_74047/2745512789.py:23: DeprecationWarning:\n",
      "\n",
      "elementwise comparison failed; this will raise an error in the future.\n",
      "\n"
     ]
    }
   ],
   "source": [
    "## GET LINE PLOTS FOR TOTAL RECORDED CASES, TOTAL ADMITTED, DEATHS - PROVINCIAL - CUMULATIVE###\n",
    "province_line_plot(dtype='cumu', param='total')\n",
    "province_line_plot(dtype='cumu', param='admitted')\n",
    "province_line_plot(dtype='cumu', param='deaths')\n",
    "\n",
    "## GET LINE PLOTS FOR TOTAL RECORDED CASES, TOTAL ADMITTED, DEATHS - PROVINCIAL - DAILY REPORTED###\n",
    "province_line_plot(dtype='daily', param='total')\n",
    "province_line_plot(dtype='daily', param='admitted')\n",
    "province_line_plot(dtype='daily', param='deaths')\n",
    "\n",
    "## GET FACET PLOTS FOR TOTAL RECORDED CASES, TOTAL ADMITTED, DEATHS - PROVINCIAL - CUMULATIVE###\n",
    "province_facet(dtype='cumu', param='total')\n",
    "province_facet(dtype='cumu', param='admitted')\n",
    "province_facet(dtype='cumu', param='deaths')\n",
    "\n",
    "## GET FACET PLOTS FOR TOTAL RECORDED CASES, TOTAL ADMITTED, DEATHS - PROVINCIAL - DAILY REPORTED###\n",
    "province_facet(dtype='daily', param='total')\n",
    "province_facet(dtype='daily', param='admitted')\n",
    "province_facet(dtype='daily', param='deaths')"
   ]
  },
  {
   "cell_type": "code",
   "execution_count": 12,
   "metadata": {
    "ExecuteTime": {
     "end_time": "2021-09-12T08:34:19.075577Z",
     "start_time": "2021-09-12T08:34:02.958466Z"
    }
   },
   "outputs": [],
   "source": [
    "## GENERATE LATEST CHOROPLETH PLOT FOR NL PROVINCES - DAILY - confirmed, admitted, deaths\n",
    "nl_choropleth_latest(dtype='daily', param='total')\n",
    "nl_choropleth_latest(dtype='daily', param='admitted')\n",
    "nl_choropleth_latest(dtype='daily', param='deaths')"
   ]
  },
  {
   "cell_type": "code",
   "execution_count": null,
   "metadata": {},
   "outputs": [],
   "source": []
  }
 ],
 "metadata": {
  "kernelspec": {
   "display_name": "Python 3 (ipykernel)",
   "language": "python",
   "name": "python3"
  },
  "language_info": {
   "codemirror_mode": {
    "name": "ipython",
    "version": 3
   },
   "file_extension": ".py",
   "mimetype": "text/x-python",
   "name": "python",
   "nbconvert_exporter": "python",
   "pygments_lexer": "ipython3",
   "version": "3.8.3"
  },
  "varInspector": {
   "cols": {
    "lenName": 16,
    "lenType": 16,
    "lenVar": 40
   },
   "kernels_config": {
    "python": {
     "delete_cmd_postfix": "",
     "delete_cmd_prefix": "del ",
     "library": "var_list.py",
     "varRefreshCmd": "print(var_dic_list())"
    },
    "r": {
     "delete_cmd_postfix": ") ",
     "delete_cmd_prefix": "rm(",
     "library": "var_list.r",
     "varRefreshCmd": "cat(var_dic_list()) "
    }
   },
   "types_to_exclude": [
    "module",
    "function",
    "builtin_function_or_method",
    "instance",
    "_Feature"
   ],
   "window_display": false
  }
 },
 "nbformat": 4,
 "nbformat_minor": 4
}
