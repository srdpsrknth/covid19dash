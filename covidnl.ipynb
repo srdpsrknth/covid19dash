{
 "cells": [
  {
   "cell_type": "code",
   "execution_count": 1,
   "metadata": {},
   "outputs": [],
   "source": [
    "import numpy as np\n",
    "import pandas as pd"
   ]
  },
  {
   "cell_type": "code",
   "execution_count": 2,
   "metadata": {},
   "outputs": [],
   "source": [
    "nl_latest = \"https://api.apify.com/v2/key-value-stores/vqnEUe7VtKNMqGqFF/records/LATEST?disableRedirect=true\"\n",
    "nl_hist = \"https://api.apify.com/v2/datasets/jr5ogVGnyfMZJwpnB/items?format=json&clean=1\""
   ]
  },
  {
   "cell_type": "code",
   "execution_count": 3,
   "metadata": {},
   "outputs": [
    {
     "name": "stdout",
     "output_type": "stream",
     "text": [
      "{'infected': 541050, 'recovered': 7017, 'deceased': 9584, 'infectedByRegion': [{'region': 'Zuid-Holland', 'infectedCount': 149682, 'deceasedCount': 2364}, {'region': 'Noord-Holland', 'infectedCount': 95881, 'deceasedCount': 1307}, {'region': 'Noord-Brabant', 'infectedCount': 84469, 'deceasedCount': 2062}, {'region': 'Gelderland', 'infectedCount': 53144, 'deceasedCount': 1066}, {'region': 'Utrecht', 'infectedCount': 44860, 'deceasedCount': 696}, {'region': 'Overijssel', 'infectedCount': 32289, 'deceasedCount': 544}, {'region': 'Limburg', 'infectedCount': 25774, 'deceasedCount': 891}, {'region': 'Flevoland', 'infectedCount': 11464, 'deceasedCount': 141}, {'region': 'Friesland', 'infectedCount': 8868, 'deceasedCount': 137}, {'region': 'Groningen', 'infectedCount': 8695, 'deceasedCount': 51}, {'region': 'Drenthe', 'infectedCount': 7940, 'deceasedCount': 114}, {'region': 'Zeeland', 'infectedCount': 6367, 'deceasedCount': 104}, {'region': 'Aruba', 'infectedCount': 4872, 'deceasedCount': 45}, {'region': 'Unknown', 'infectedCount': 3011, 'deceasedCount': 27}, {'region': 'Curacao', 'infectedCount': 2503, 'deceasedCount': 7}, {'region': 'Sint Maarten', 'infectedCount': 1069, 'deceasedCount': 25}, {'region': 'Bonaire, Sint Eustatius and Saba', 'infectedCount': 162, 'deceasedCount': 3}], 'country': 'Netherlands', 'moreData': 'https://api.apify.com/v2/key-value-stores/vqnEUe7VtKNMqGqFF/records/LATEST?disableRedirect=true', 'historyData': 'https://api.apify.com/v2/datasets/jr5ogVGnyfMZJwpnB/items?format=json&clean=1', 'SOURCE_URL': 'https://www.rivm.nl/en/novel-coronavirus-covid-19/current-information', 'lastUpdatedAtApify': '2020-12-02T16:40:22.000Z', 'readMe': 'https://apify.com/lukass/covid-nl'}\n"
     ]
    }
   ],
   "source": [
    "import urllib.request, json \n",
    "with urllib.request.urlopen(nl_latest) as url_latest:\n",
    "    data_latest = json.loads(url_latest.read().decode())\n",
    "    print(data_latest)"
   ]
  },
  {
   "cell_type": "code",
   "execution_count": 4,
   "metadata": {},
   "outputs": [],
   "source": [
    "with urllib.request.urlopen(nl_hist) as url_hist:\n",
    "    data_hist = json.loads(url_hist.read().decode())"
   ]
  },
  {
   "cell_type": "code",
   "execution_count": 5,
   "metadata": {},
   "outputs": [
    {
     "data": {
      "text/html": [
       "<div>\n",
       "<style scoped>\n",
       "    .dataframe tbody tr th:only-of-type {\n",
       "        vertical-align: middle;\n",
       "    }\n",
       "\n",
       "    .dataframe tbody tr th {\n",
       "        vertical-align: top;\n",
       "    }\n",
       "\n",
       "    .dataframe thead th {\n",
       "        text-align: right;\n",
       "    }\n",
       "</style>\n",
       "<table border=\"1\" class=\"dataframe\">\n",
       "  <thead>\n",
       "    <tr style=\"text-align: right;\">\n",
       "      <th></th>\n",
       "      <th>infected</th>\n",
       "      <th>recovered</th>\n",
       "      <th>deceased</th>\n",
       "      <th>infectedByRegion</th>\n",
       "      <th>country</th>\n",
       "      <th>moreData</th>\n",
       "      <th>historyData</th>\n",
       "      <th>SOURCE_URL</th>\n",
       "      <th>lastUpdatedAtApify</th>\n",
       "      <th>readMe</th>\n",
       "    </tr>\n",
       "  </thead>\n",
       "  <tbody>\n",
       "    <tr>\n",
       "      <th>0</th>\n",
       "      <td>541050</td>\n",
       "      <td>7017</td>\n",
       "      <td>9584</td>\n",
       "      <td>{'region': 'Zuid-Holland', 'infectedCount': 14...</td>\n",
       "      <td>Netherlands</td>\n",
       "      <td>https://api.apify.com/v2/key-value-stores/vqnE...</td>\n",
       "      <td>https://api.apify.com/v2/datasets/jr5ogVGnyfMZ...</td>\n",
       "      <td>https://www.rivm.nl/en/novel-coronavirus-covid...</td>\n",
       "      <td>2020-12-02T16:40:22.000Z</td>\n",
       "      <td>https://apify.com/lukass/covid-nl</td>\n",
       "    </tr>\n",
       "    <tr>\n",
       "      <th>1</th>\n",
       "      <td>541050</td>\n",
       "      <td>7017</td>\n",
       "      <td>9584</td>\n",
       "      <td>{'region': 'Noord-Holland', 'infectedCount': 9...</td>\n",
       "      <td>Netherlands</td>\n",
       "      <td>https://api.apify.com/v2/key-value-stores/vqnE...</td>\n",
       "      <td>https://api.apify.com/v2/datasets/jr5ogVGnyfMZ...</td>\n",
       "      <td>https://www.rivm.nl/en/novel-coronavirus-covid...</td>\n",
       "      <td>2020-12-02T16:40:22.000Z</td>\n",
       "      <td>https://apify.com/lukass/covid-nl</td>\n",
       "    </tr>\n",
       "    <tr>\n",
       "      <th>2</th>\n",
       "      <td>541050</td>\n",
       "      <td>7017</td>\n",
       "      <td>9584</td>\n",
       "      <td>{'region': 'Noord-Brabant', 'infectedCount': 8...</td>\n",
       "      <td>Netherlands</td>\n",
       "      <td>https://api.apify.com/v2/key-value-stores/vqnE...</td>\n",
       "      <td>https://api.apify.com/v2/datasets/jr5ogVGnyfMZ...</td>\n",
       "      <td>https://www.rivm.nl/en/novel-coronavirus-covid...</td>\n",
       "      <td>2020-12-02T16:40:22.000Z</td>\n",
       "      <td>https://apify.com/lukass/covid-nl</td>\n",
       "    </tr>\n",
       "    <tr>\n",
       "      <th>3</th>\n",
       "      <td>541050</td>\n",
       "      <td>7017</td>\n",
       "      <td>9584</td>\n",
       "      <td>{'region': 'Gelderland', 'infectedCount': 5314...</td>\n",
       "      <td>Netherlands</td>\n",
       "      <td>https://api.apify.com/v2/key-value-stores/vqnE...</td>\n",
       "      <td>https://api.apify.com/v2/datasets/jr5ogVGnyfMZ...</td>\n",
       "      <td>https://www.rivm.nl/en/novel-coronavirus-covid...</td>\n",
       "      <td>2020-12-02T16:40:22.000Z</td>\n",
       "      <td>https://apify.com/lukass/covid-nl</td>\n",
       "    </tr>\n",
       "    <tr>\n",
       "      <th>4</th>\n",
       "      <td>541050</td>\n",
       "      <td>7017</td>\n",
       "      <td>9584</td>\n",
       "      <td>{'region': 'Utrecht', 'infectedCount': 44860, ...</td>\n",
       "      <td>Netherlands</td>\n",
       "      <td>https://api.apify.com/v2/key-value-stores/vqnE...</td>\n",
       "      <td>https://api.apify.com/v2/datasets/jr5ogVGnyfMZ...</td>\n",
       "      <td>https://www.rivm.nl/en/novel-coronavirus-covid...</td>\n",
       "      <td>2020-12-02T16:40:22.000Z</td>\n",
       "      <td>https://apify.com/lukass/covid-nl</td>\n",
       "    </tr>\n",
       "  </tbody>\n",
       "</table>\n",
       "</div>"
      ],
      "text/plain": [
       "   infected  recovered  deceased  \\\n",
       "0    541050       7017      9584   \n",
       "1    541050       7017      9584   \n",
       "2    541050       7017      9584   \n",
       "3    541050       7017      9584   \n",
       "4    541050       7017      9584   \n",
       "\n",
       "                                    infectedByRegion      country  \\\n",
       "0  {'region': 'Zuid-Holland', 'infectedCount': 14...  Netherlands   \n",
       "1  {'region': 'Noord-Holland', 'infectedCount': 9...  Netherlands   \n",
       "2  {'region': 'Noord-Brabant', 'infectedCount': 8...  Netherlands   \n",
       "3  {'region': 'Gelderland', 'infectedCount': 5314...  Netherlands   \n",
       "4  {'region': 'Utrecht', 'infectedCount': 44860, ...  Netherlands   \n",
       "\n",
       "                                            moreData  \\\n",
       "0  https://api.apify.com/v2/key-value-stores/vqnE...   \n",
       "1  https://api.apify.com/v2/key-value-stores/vqnE...   \n",
       "2  https://api.apify.com/v2/key-value-stores/vqnE...   \n",
       "3  https://api.apify.com/v2/key-value-stores/vqnE...   \n",
       "4  https://api.apify.com/v2/key-value-stores/vqnE...   \n",
       "\n",
       "                                         historyData  \\\n",
       "0  https://api.apify.com/v2/datasets/jr5ogVGnyfMZ...   \n",
       "1  https://api.apify.com/v2/datasets/jr5ogVGnyfMZ...   \n",
       "2  https://api.apify.com/v2/datasets/jr5ogVGnyfMZ...   \n",
       "3  https://api.apify.com/v2/datasets/jr5ogVGnyfMZ...   \n",
       "4  https://api.apify.com/v2/datasets/jr5ogVGnyfMZ...   \n",
       "\n",
       "                                          SOURCE_URL  \\\n",
       "0  https://www.rivm.nl/en/novel-coronavirus-covid...   \n",
       "1  https://www.rivm.nl/en/novel-coronavirus-covid...   \n",
       "2  https://www.rivm.nl/en/novel-coronavirus-covid...   \n",
       "3  https://www.rivm.nl/en/novel-coronavirus-covid...   \n",
       "4  https://www.rivm.nl/en/novel-coronavirus-covid...   \n",
       "\n",
       "         lastUpdatedAtApify                             readMe  \n",
       "0  2020-12-02T16:40:22.000Z  https://apify.com/lukass/covid-nl  \n",
       "1  2020-12-02T16:40:22.000Z  https://apify.com/lukass/covid-nl  \n",
       "2  2020-12-02T16:40:22.000Z  https://apify.com/lukass/covid-nl  \n",
       "3  2020-12-02T16:40:22.000Z  https://apify.com/lukass/covid-nl  \n",
       "4  2020-12-02T16:40:22.000Z  https://apify.com/lukass/covid-nl  "
      ]
     },
     "execution_count": 5,
     "metadata": {},
     "output_type": "execute_result"
    }
   ],
   "source": [
    "df_latest = pd.DataFrame(data_latest)\n",
    "df_latest.head()"
   ]
  },
  {
   "cell_type": "code",
   "execution_count": null,
   "metadata": {},
   "outputs": [],
   "source": []
  }
 ],
 "metadata": {
  "kernelspec": {
   "display_name": "Python 3",
   "language": "python",
   "name": "python3"
  },
  "language_info": {
   "codemirror_mode": {
    "name": "ipython",
    "version": 3
   },
   "file_extension": ".py",
   "mimetype": "text/x-python",
   "name": "python",
   "nbconvert_exporter": "python",
   "pygments_lexer": "ipython3",
   "version": "3.8.3"
  }
 },
 "nbformat": 4,
 "nbformat_minor": 4
}
