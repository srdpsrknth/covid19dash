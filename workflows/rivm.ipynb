{
 "cells": [
  {
   "cell_type": "code",
   "execution_count": 1,
   "metadata": {},
   "outputs": [],
   "source": [
    "from datetime import date\n",
    "from pathlib import Path\n",
    "\n",
    "import numpy as np\n",
    "import pandas as pd\n",
    "\n",
    "import requests"
   ]
  },
  {
   "cell_type": "code",
   "execution_count": 2,
   "metadata": {},
   "outputs": [],
   "source": [
    "URL_cumu = \"https://data.rivm.nl/covid-19/COVID-19_aantallen_gemeente_cumulatief.csv\"\n",
    "URL_daily = \"https://data.rivm.nl/covid-19/COVID-19_aantallen_gemeente_per_dag.csv\"\n",
    "RAWPATH = Path.cwd().parent / 'raw-data' \n",
    "CLEANPATH = Path.cwd().parent / 'clean-data' "
   ]
  },
  {
   "cell_type": "code",
   "execution_count": 3,
   "metadata": {},
   "outputs": [],
   "source": [
    "def export_csv(df, name, raw=0):\n",
    "    if raw:\n",
    "        path = Path.cwd().parent / 'raw-data' / '{}.csv'.format(name)\n",
    "    else:\n",
    "        path = Path.cwd().parent / 'clean-data' / '{}.csv'.format(name)\n",
    "        \n",
    "    df.to_csv(path)"
   ]
  },
  {
   "cell_type": "code",
   "execution_count": 4,
   "metadata": {},
   "outputs": [],
   "source": [
    "def set_nat_cumu(url):\n",
    "    df_cumu = pd.read_csv(url,sep=\";\")\n",
    "    \n",
    "    export_csv(df_cumu, \"cumulative_raw\", raw=1)\n",
    "    print(\"cumulative_raw exported to csv\")\n",
    "    \n",
    "    df_cumu['Date'] = pd.to_datetime(df_cumu['Date_of_report']).dt.date\n",
    "    df_cumu.drop(['Municipality_code','Municipality_name','Date_of_report'], inplace=True, axis=1)\n",
    "    \n",
    "    mapping = {\n",
    "        'Total_reported':'total',\n",
    "        'Hospital_admission':'admitted',\n",
    "        'Deceased':'deaths'\n",
    "    }\n",
    "    \n",
    "    df_cumu.rename(mapping, inplace=True, axis=1)\n",
    "    \n",
    "    df_cumu = df_cumu.groupby(['Date'])[['total','admitted','deaths']].sum().reset_index()\n",
    "    \n",
    "    export_csv(df_cumu,\"national_cumulative_clean\")\n",
    "    \n",
    "    print(\"national_cumulative_clean exported to csv\")"
   ]
  },
  {
   "cell_type": "code",
   "execution_count": 5,
   "metadata": {},
   "outputs": [],
   "source": [
    "def set_province_cumu(path):\n",
    "    df_province = pd.read_csv(path /'cumulative_raw.csv', index_col=0)\n",
    "    df_province['date'] = pd.to_datetime(df_province['Date_of_report']).dt.date\n",
    "    df_province.drop(['Municipality_code','Municipality_name','Date_of_report'], inplace=True, axis=1)\n",
    "    \n",
    "    mapping = {\n",
    "        'Total_reported':'total',\n",
    "        'Hospital_admission':'admitted',\n",
    "        'Deceased':'deaths',\n",
    "        'Province':'province'\n",
    "    }\n",
    "    \n",
    "    df_province.rename(mapping, inplace=True, axis=1)\n",
    "    \n",
    "    df_province = df_province.groupby(['date','province'])[['total','admitted','deaths']].sum().reset_index()\n",
    "    \n",
    "    export_csv(df_province,\"province_cumulative_clean\")\n",
    "    \n",
    "    print(\"province_cumulative_clean exported to csv\")"
   ]
  },
  {
   "cell_type": "code",
   "execution_count": 6,
   "metadata": {},
   "outputs": [],
   "source": [
    "def set_nat_daily(url):\n",
    "    df = pd.read_csv(url,sep=\";\")\n",
    "    \n",
    "    export_csv(df, \"daily_raw\", raw=1)\n",
    "    print(\"daily_raw exported to csv\")\n",
    "    \n",
    "    df['date'] = pd.to_datetime(df['Date_of_publication']).dt.date\n",
    "    df.drop(['Municipality_code','Municipality_name','Date_of_publication','Date_of_report','Province','Security_region_code','Security_region_name', 'Municipal_health_service', 'ROAZ_region'], inplace=True, axis=1)\n",
    "    \n",
    "    mapping = {\n",
    "        'Total_reported':'total',\n",
    "        'Hospital_admission':'admitted',\n",
    "        'Deceased':'deaths'\n",
    "    }\n",
    "    \n",
    "    df.rename(mapping, inplace=True, axis=1)\n",
    "    \n",
    "    df = df.groupby(['date'])[['total','admitted','deaths']].sum().reset_index()\n",
    "    \n",
    "    export_csv(df,\"national_daily_clean\")\n",
    "    \n",
    "    print(\"national_daily_clean exported to csv\")\n",
    "    "
   ]
  },
  {
   "cell_type": "code",
   "execution_count": 7,
   "metadata": {},
   "outputs": [],
   "source": [
    "def set_province_daily(path):\n",
    "    df = pd.read_csv(path /'daily_raw.csv', index_col=0)\n",
    "    df['date'] = pd.to_datetime(df['Date_of_publication']).dt.date\n",
    "    df.drop(['Municipality_code','Municipality_name','Date_of_publication','Date_of_report', 'Security_region_code','Security_region_name', 'Municipal_health_service', 'ROAZ_region'], inplace=True, axis=1)\n",
    "        \n",
    "    mapping = {\n",
    "        'Total_reported':'total',\n",
    "        'Hospital_admission':'admitted',\n",
    "        'Deceased':'deaths',\n",
    "        'Province':'province'\n",
    "    }\n",
    "    \n",
    "    df.rename(mapping, inplace=True, axis=1)\n",
    "    \n",
    "    df = df.groupby(['date','province'])[['total','admitted','deaths']].sum().reset_index()\n",
    "    \n",
    "    export_csv(df,\"province_daily_clean\")\n",
    "    \n",
    "    print(\"province_daily_clean exported to csv\")"
   ]
  },
  {
   "cell_type": "code",
   "execution_count": 8,
   "metadata": {},
   "outputs": [
    {
     "name": "stdout",
     "output_type": "stream",
     "text": [
      "cumulative_raw exported to csv\n",
      "national_cumulative_clean exported to csv\n",
      "province_cumulative_clean exported to csv\n"
     ]
    }
   ],
   "source": [
    "set_nat_cumu(URL_cumu)\n",
    "set_province_cumu(RAWPATH)"
   ]
  },
  {
   "cell_type": "code",
   "execution_count": 9,
   "metadata": {},
   "outputs": [
    {
     "name": "stdout",
     "output_type": "stream",
     "text": [
      "daily_raw exported to csv\n",
      "national_daily_clean exported to csv\n",
      "province_daily_clean exported to csv\n"
     ]
    }
   ],
   "source": [
    "set_nat_daily(URL_daily)\n",
    "set_province_daily(RAWPATH)"
   ]
  },
  {
   "cell_type": "code",
   "execution_count": null,
   "metadata": {},
   "outputs": [],
   "source": []
  }
 ],
 "metadata": {
  "kernelspec": {
   "display_name": "Python 3",
   "language": "python",
   "name": "python3"
  },
  "language_info": {
   "codemirror_mode": {
    "name": "ipython",
    "version": 3
   },
   "file_extension": ".py",
   "mimetype": "text/x-python",
   "name": "python",
   "nbconvert_exporter": "python",
   "pygments_lexer": "ipython3",
   "version": "3.8.3"
  }
 },
 "nbformat": 4,
 "nbformat_minor": 4
}
