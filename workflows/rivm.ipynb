{
 "cells": [
  {
   "cell_type": "code",
   "execution_count": 1,
   "metadata": {
    "ExecuteTime": {
     "end_time": "2021-09-12T08:24:38.135284Z",
     "start_time": "2021-09-12T08:24:37.096107Z"
    }
   },
   "outputs": [],
   "source": [
    "from datetime import date\n",
    "from pathlib import Path\n",
    "\n",
    "import numpy as np\n",
    "import pandas as pd\n",
    "\n",
    "import requests"
   ]
  },
  {
   "cell_type": "code",
   "execution_count": 2,
   "metadata": {
    "ExecuteTime": {
     "end_time": "2021-09-12T08:24:38.207294Z",
     "start_time": "2021-09-12T08:24:38.171988Z"
    }
   },
   "outputs": [],
   "source": [
    "URL_cumu = \"https://data.rivm.nl/covid-19/COVID-19_aantallen_gemeente_cumulatief.csv\"\n",
    "URL_daily = \"https://data.rivm.nl/covid-19/COVID-19_aantallen_gemeente_per_dag.csv\"\n",
    "URL_desc = \"https://data.rivm.nl/covid-19/COVID-19_casus_landelijk.csv\"\n",
    "URL_repro = \"https://data.rivm.nl/covid-19/COVID-19_reproductiegetal.json\"\n",
    "URL_contagious = \"https://data.rivm.nl/covid-19/COVID-19_prevalentie.json\"\n",
    "RAWPATH = Path.cwd().parent / 'raw-data' \n",
    "CLEANPATH = Path.cwd().parent / 'clean-data' "
   ]
  },
  {
   "cell_type": "code",
   "execution_count": 3,
   "metadata": {
    "ExecuteTime": {
     "end_time": "2021-09-12T08:24:39.870015Z",
     "start_time": "2021-09-12T08:24:39.864398Z"
    }
   },
   "outputs": [],
   "source": [
    "def export_csv(df, name, raw=0):\n",
    "    if raw:\n",
    "        path = Path.cwd().parent / 'raw-data' / '{}.csv'.format(name)\n",
    "    else:\n",
    "        path = Path.cwd().parent / 'clean-data' / '{}.csv'.format(name)\n",
    "        \n",
    "    df.to_csv(path)"
   ]
  },
  {
   "cell_type": "code",
   "execution_count": 4,
   "metadata": {
    "ExecuteTime": {
     "end_time": "2021-09-12T08:24:40.554350Z",
     "start_time": "2021-09-12T08:24:40.547799Z"
    }
   },
   "outputs": [],
   "source": [
    "def set_nat_cumu(url):\n",
    "    df_cumu = pd.read_csv(url,sep=\";\")\n",
    "    \n",
    "    export_csv(df_cumu, \"cumulative_raw\", raw=1)\n",
    "    print(\"cumulative_raw exported to csv\")\n",
    "    \n",
    "    df_cumu['date'] = pd.to_datetime(df_cumu['Date_of_report']).dt.date\n",
    "    df_cumu.drop(['Municipality_code','Municipality_name','Date_of_report'], inplace=True, axis=1)\n",
    "    \n",
    "    mapping = {\n",
    "        'Total_reported':'total',\n",
    "        'Hospital_admission':'admitted',\n",
    "        'Deceased':'deaths'\n",
    "    }\n",
    "    \n",
    "    df_cumu.rename(mapping, inplace=True, axis=1)\n",
    "    \n",
    "    df_cumu = df_cumu.groupby(['date'])[['total','admitted','deaths']].sum().reset_index()\n",
    "    \n",
    "    export_csv(df_cumu,\"national_cumulative_clean\")\n",
    "    \n",
    "    print(\"national_cumulative_clean exported to csv\")"
   ]
  },
  {
   "cell_type": "code",
   "execution_count": 5,
   "metadata": {
    "ExecuteTime": {
     "end_time": "2021-09-12T08:24:41.373706Z",
     "start_time": "2021-09-12T08:24:41.369037Z"
    }
   },
   "outputs": [],
   "source": [
    "def set_province_cumu(path):\n",
    "    df_province = pd.read_csv(path /'cumulative_raw.csv', index_col=0)\n",
    "    df_province['date'] = pd.to_datetime(df_province['Date_of_report']).dt.date\n",
    "    df_province.drop(['Municipality_code','Municipality_name','Date_of_report'], inplace=True, axis=1)\n",
    "    \n",
    "    mapping = {\n",
    "        'Total_reported':'total',\n",
    "        'Hospital_admission':'admitted',\n",
    "        'Deceased':'deaths',\n",
    "        'Province':'province'\n",
    "    }\n",
    "    \n",
    "    df_province.rename(mapping, inplace=True, axis=1)\n",
    "    \n",
    "    df_province = df_province.groupby(['date','province'])[['total','admitted','deaths']].sum().reset_index()\n",
    "    \n",
    "    export_csv(df_province,\"province_cumulative_clean\")\n",
    "    \n",
    "    print(\"province_cumulative_clean exported to csv\")"
   ]
  },
  {
   "cell_type": "code",
   "execution_count": 6,
   "metadata": {
    "ExecuteTime": {
     "end_time": "2021-09-12T08:24:42.045337Z",
     "start_time": "2021-09-12T08:24:42.036815Z"
    }
   },
   "outputs": [],
   "source": [
    "def set_nat_daily(url):\n",
    "    df = pd.read_csv(url,sep=\";\")\n",
    "    \n",
    "    export_csv(df, \"daily_raw\", raw=1)\n",
    "    print(\"daily_raw exported to csv\")\n",
    "    \n",
    "    df['date'] = pd.to_datetime(df['Date_of_publication']).dt.date\n",
    "    df.drop(['Municipality_code','Municipality_name','Date_of_publication','Date_of_report','Province','Security_region_code','Security_region_name', 'Municipal_health_service', 'ROAZ_region'], inplace=True, axis=1)\n",
    "    \n",
    "    mapping = {\n",
    "        'Total_reported':'total',\n",
    "        'Hospital_admission':'admitted',\n",
    "        'Deceased':'deaths'\n",
    "    }\n",
    "    \n",
    "    df.rename(mapping, inplace=True, axis=1)\n",
    "    \n",
    "    df = df.groupby(['date'])[['total','admitted','deaths']].sum().reset_index()\n",
    "    \n",
    "    export_csv(df,\"national_daily_clean\")\n",
    "    \n",
    "    print(\"national_daily_clean exported to csv\")\n",
    "    "
   ]
  },
  {
   "cell_type": "code",
   "execution_count": 7,
   "metadata": {
    "ExecuteTime": {
     "end_time": "2021-09-12T08:24:42.788113Z",
     "start_time": "2021-09-12T08:24:42.782080Z"
    }
   },
   "outputs": [],
   "source": [
    "def set_province_daily(path):\n",
    "    df = pd.read_csv(path /'daily_raw.csv', index_col=0)\n",
    "    df['date'] = pd.to_datetime(df['Date_of_publication']).dt.date\n",
    "    df.drop(['Municipality_code','Municipality_name','Date_of_publication','Date_of_report', 'Security_region_code','Security_region_name', 'Municipal_health_service', 'ROAZ_region'], inplace=True, axis=1)\n",
    "        \n",
    "    mapping = {\n",
    "        'Total_reported':'total',\n",
    "        'Hospital_admission':'admitted',\n",
    "        'Deceased':'deaths',\n",
    "        'Province':'province'\n",
    "    }\n",
    "    \n",
    "    df.rename(mapping, inplace=True, axis=1)\n",
    "    \n",
    "    df = df.groupby(['date','province'])[['total','admitted','deaths']].sum().reset_index()\n",
    "    \n",
    "    export_csv(df,\"province_daily_clean\")\n",
    "    \n",
    "    print(\"province_daily_clean exported to csv\")"
   ]
  },
  {
   "cell_type": "code",
   "execution_count": 8,
   "metadata": {
    "ExecuteTime": {
     "end_time": "2021-09-12T08:24:43.481139Z",
     "start_time": "2021-09-12T08:24:43.473139Z"
    }
   },
   "outputs": [],
   "source": [
    "def clean_desc_data(url):\n",
    "    df = pd.read_csv(url,sep=\";\")\n",
    "    \n",
    "    export_csv(df, \"descriptive_raw\", raw=1)\n",
    "    print(\"descriptive_raw exported to csv\")\n",
    "    \n",
    "    df['date'] = pd.to_datetime(df['Date_statistics']).dt.date\n",
    "    df.drop(['Date_file','Date_statistics','Week_of_death', 'Municipal_health_service'], inplace=True, axis=1)\n",
    "    \n",
    "    mapping = {\n",
    "        'Date_statistics_type':'stat_type',\n",
    "        'Agegroup':'agegroup',\n",
    "        'Sex':'sex',\n",
    "        'Province':'province',\n",
    "        'Hospital_admission':'admitted',\n",
    "        'Deceased':'Death'\n",
    "    }\n",
    "    \n",
    "    df.rename(mapping, inplace=True, axis=1)\n",
    "    \n",
    "    #df = df.groupby(['date'])[['total','admitted','deaths']].sum().reset_index()\n",
    "    \n",
    "    export_csv(df,\"descriptive_clean\")\n",
    "    \n",
    "    print(\"descriptive_clean exported to csv\")"
   ]
  },
  {
   "cell_type": "code",
   "execution_count": 9,
   "metadata": {
    "ExecuteTime": {
     "end_time": "2021-09-12T08:24:44.198491Z",
     "start_time": "2021-09-12T08:24:44.191781Z"
    }
   },
   "outputs": [],
   "source": [
    "def clean_repro_data(url):\n",
    "    df = pd.read_json(url)\n",
    "    \n",
    "    export_csv(df, \"reproduction_raw\", raw=1)\n",
    "    print(\"reproduction_raw exported to csv\")\n",
    "    \n",
    "    df['date'] = pd.to_datetime(df['Date']).dt.date\n",
    "    df.drop(['Date','population'], inplace=True, axis=1)\n",
    "    \n",
    "    mapping = {\n",
    "        'Rt_low':'R_min',\n",
    "        'Rt_avg':'R_avg',\n",
    "        'Rt_up':'R_high'\n",
    "    }\n",
    "    \n",
    "    df.rename(mapping, inplace=True, axis=1)\n",
    "    \n",
    "    export_csv(df,\"reproduction_clean\")\n",
    "    print(\"reproduction_clean exported to csv\")"
   ]
  },
  {
   "cell_type": "code",
   "execution_count": 10,
   "metadata": {
    "ExecuteTime": {
     "end_time": "2021-09-12T08:24:44.869210Z",
     "start_time": "2021-09-12T08:24:44.863055Z"
    }
   },
   "outputs": [],
   "source": [
    "def clean_contagious_data(url):\n",
    "    df = pd.read_json(url)\n",
    "    \n",
    "    export_csv(df, \"contagious_raw\", raw=1)\n",
    "    print(\"contagious_raw exported to csv\")\n",
    "    \n",
    "    df['date'] = pd.to_datetime(df['Date']).dt.date\n",
    "    df.drop(['Date','population'], inplace=True, axis=1)\n",
    "    \n",
    "    mapping = {\n",
    "        'prev_low':'min',\n",
    "        'prev_avg':'avg',\n",
    "        'prev_up':'high'\n",
    "    }\n",
    "    \n",
    "    df.rename(mapping, inplace=True, axis=1)\n",
    "    \n",
    "    export_csv(df,\"contagious_clean\")\n",
    "    print(\"contagious_clean exported to csv\")"
   ]
  },
  {
   "cell_type": "code",
   "execution_count": 11,
   "metadata": {
    "ExecuteTime": {
     "end_time": "2021-09-12T08:25:19.779395Z",
     "start_time": "2021-09-12T08:24:45.807844Z"
    }
   },
   "outputs": [
    {
     "name": "stdout",
     "output_type": "stream",
     "text": [
      "cumulative_raw exported to csv\n",
      "national_cumulative_clean exported to csv\n",
      "province_cumulative_clean exported to csv\n"
     ]
    }
   ],
   "source": [
    "set_nat_cumu(URL_cumu)\n",
    "set_province_cumu(RAWPATH)"
   ]
  },
  {
   "cell_type": "code",
   "execution_count": 12,
   "metadata": {
    "ExecuteTime": {
     "end_time": "2021-09-12T08:26:28.788807Z",
     "start_time": "2021-09-12T08:25:19.798311Z"
    }
   },
   "outputs": [
    {
     "name": "stdout",
     "output_type": "stream",
     "text": [
      "daily_raw exported to csv\n",
      "national_daily_clean exported to csv\n",
      "province_daily_clean exported to csv\n"
     ]
    }
   ],
   "source": [
    "set_nat_daily(URL_daily)\n",
    "set_province_daily(RAWPATH)"
   ]
  },
  {
   "cell_type": "code",
   "execution_count": 13,
   "metadata": {
    "ExecuteTime": {
     "end_time": "2021-09-12T08:33:21.083257Z",
     "start_time": "2021-09-12T08:26:28.803879Z"
    }
   },
   "outputs": [
    {
     "name": "stdout",
     "output_type": "stream",
     "text": [
      "descriptive_raw exported to csv\n",
      "descriptive_clean exported to csv\n"
     ]
    }
   ],
   "source": [
    "clean_desc_data(URL_desc)"
   ]
  },
  {
   "cell_type": "code",
   "execution_count": 14,
   "metadata": {
    "ExecuteTime": {
     "end_time": "2021-09-12T08:33:23.505820Z",
     "start_time": "2021-09-12T08:33:21.098904Z"
    }
   },
   "outputs": [
    {
     "name": "stdout",
     "output_type": "stream",
     "text": [
      "reproduction_raw exported to csv\n",
      "reproduction_clean exported to csv\n",
      "contagious_raw exported to csv\n",
      "contagious_clean exported to csv\n"
     ]
    }
   ],
   "source": [
    "clean_repro_data(URL_repro)\n",
    "clean_contagious_data(URL_repro)"
   ]
  },
  {
   "cell_type": "code",
   "execution_count": null,
   "metadata": {},
   "outputs": [],
   "source": []
  }
 ],
 "metadata": {
  "kernelspec": {
   "display_name": "Python 3 (ipykernel)",
   "language": "python",
   "name": "python3"
  },
  "language_info": {
   "codemirror_mode": {
    "name": "ipython",
    "version": 3
   },
   "file_extension": ".py",
   "mimetype": "text/x-python",
   "name": "python",
   "nbconvert_exporter": "python",
   "pygments_lexer": "ipython3",
   "version": "3.8.3"
  },
  "varInspector": {
   "cols": {
    "lenName": 16,
    "lenType": 16,
    "lenVar": 40
   },
   "kernels_config": {
    "python": {
     "delete_cmd_postfix": "",
     "delete_cmd_prefix": "del ",
     "library": "var_list.py",
     "varRefreshCmd": "print(var_dic_list())"
    },
    "r": {
     "delete_cmd_postfix": ") ",
     "delete_cmd_prefix": "rm(",
     "library": "var_list.r",
     "varRefreshCmd": "cat(var_dic_list()) "
    }
   },
   "types_to_exclude": [
    "module",
    "function",
    "builtin_function_or_method",
    "instance",
    "_Feature"
   ],
   "window_display": false
  }
 },
 "nbformat": 4,
 "nbformat_minor": 4
}
