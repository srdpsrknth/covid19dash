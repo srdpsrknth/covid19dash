{
 "cells": [
  {
   "cell_type": "code",
   "execution_count": 63,
   "metadata": {},
   "outputs": [],
   "source": [
    "from datetime import date\n",
    "from pathlib import Path\n",
    "\n",
    "import numpy as np\n",
    "import pandas as pd\n",
    "\n",
    "import requests"
   ]
  },
  {
   "cell_type": "code",
   "execution_count": 77,
   "metadata": {},
   "outputs": [],
   "source": [
    "URL_cumu = \"https://data.rivm.nl/covid-19/COVID-19_aantallen_gemeente_cumulatief.csv\"\n",
    "URL_daily = \"https://data.rivm.nl/covid-19/COVID-19_aantallen_gemeente_per_dag.csv\"\n",
    "RAWPATH = Path.cwd().parent / 'raw-data' \n",
    "CLEANPATH = Path.cwd().parent / 'clean-data' "
   ]
  },
  {
   "cell_type": "code",
   "execution_count": 65,
   "metadata": {},
   "outputs": [],
   "source": [
    "def export_csv(df, name, raw=0):\n",
    "    if raw:\n",
    "        path = Path.cwd().parent / 'raw-data' / '{}.csv'.format(name)\n",
    "    else:\n",
    "        path = Path.cwd().parent / 'clean-data' / '{}.csv'.format(name)\n",
    "        \n",
    "    df.to_csv(path)"
   ]
  },
  {
   "cell_type": "code",
   "execution_count": 66,
   "metadata": {},
   "outputs": [],
   "source": [
    "def set_nat_cumu(url):\n",
    "    df_cumu = pd.read_csv(url,sep=\";\")\n",
    "    export_csv(df_cumu, \"national_cumulative_raw\", raw=1)\n",
    "    \n",
    "    df_cumu['Date'] = pd.to_datetime(df_cumu['Date_of_report']).dt.date\n",
    "    df_cumu.drop(['Municipality_code','Municipality_name','Date_of_report'], inplace=True, axis=1)\n",
    "    \n",
    "    mapping = {\n",
    "        'Total_reported':'total',\n",
    "        'Hospital_admission':'admitted',\n",
    "        'Deceased':'deaths'\n",
    "    }\n",
    "    \n",
    "    df_cumu.rename(mapping, inplace=True, axis=1)\n",
    "    \n",
    "    df_cumu = df_cumu.groupby(['Date'])[['total','admitted','deaths']].sum().reset_index()\n",
    "    \n",
    "    export_csv(df_cumu,\"national_cumulative_clean\")\n",
    "    \n",
    "    print(\"exported to csv\")"
   ]
  },
  {
   "cell_type": "code",
   "execution_count": 84,
   "metadata": {},
   "outputs": [],
   "source": [
    "def set_province_cumu(path):\n",
    "    df_province = pd.read_csv(path /'national_cumulative_raw.csv', index_col=0)\n",
    "    df_province['date'] = pd.to_datetime(df_province['Date_of_report']).dt.date\n",
    "    df_province.drop(['Municipality_code','Municipality_name','Date_of_report'], inplace=True, axis=1)\n",
    "    \n",
    "    mapping = {\n",
    "        'Total_reported':'total',\n",
    "        'Hospital_admission':'admitted',\n",
    "        'Deceased':'deaths',\n",
    "        'Province':'province'\n",
    "    }\n",
    "    \n",
    "    df_province.rename(mapping, inplace=True, axis=1)\n",
    "    \n",
    "    df_province = df_province.groupby(['date','province'])[['total','admitted','deaths']].sum().reset_index()\n",
    "    \n",
    "    export_csv(df_province,\"province_cumu_clean\")\n",
    "    \n",
    "    print(\"exported to csv\")"
   ]
  },
  {
   "cell_type": "code",
   "execution_count": 74,
   "metadata": {},
   "outputs": [
    {
     "name": "stdout",
     "output_type": "stream",
     "text": [
      "exported to csv\n"
     ]
    }
   ],
   "source": [
    "set_nat_cumu(URL_cumu)"
   ]
  },
  {
   "cell_type": "code",
   "execution_count": 85,
   "metadata": {},
   "outputs": [
    {
     "name": "stdout",
     "output_type": "stream",
     "text": [
      "exported to csv\n"
     ]
    }
   ],
   "source": [
    "set_province_cumu(RAWPATH)"
   ]
  },
  {
   "cell_type": "code",
   "execution_count": 80,
   "metadata": {},
   "outputs": [
    {
     "data": {
      "text/html": [
       "<div>\n",
       "<style scoped>\n",
       "    .dataframe tbody tr th:only-of-type {\n",
       "        vertical-align: middle;\n",
       "    }\n",
       "\n",
       "    .dataframe tbody tr th {\n",
       "        vertical-align: top;\n",
       "    }\n",
       "\n",
       "    .dataframe thead th {\n",
       "        text-align: right;\n",
       "    }\n",
       "</style>\n",
       "<table border=\"1\" class=\"dataframe\">\n",
       "  <thead>\n",
       "    <tr style=\"text-align: right;\">\n",
       "      <th></th>\n",
       "      <th>Date_of_report</th>\n",
       "      <th>Municipality_code</th>\n",
       "      <th>Municipality_name</th>\n",
       "      <th>Province</th>\n",
       "      <th>Total_reported</th>\n",
       "      <th>Hospital_admission</th>\n",
       "      <th>Deceased</th>\n",
       "    </tr>\n",
       "  </thead>\n",
       "  <tbody>\n",
       "    <tr>\n",
       "      <th>0</th>\n",
       "      <td>2020-03-13 10:00:00</td>\n",
       "      <td>GM0003</td>\n",
       "      <td>Appingedam</td>\n",
       "      <td>Groningen</td>\n",
       "      <td>0</td>\n",
       "      <td>0</td>\n",
       "      <td>0</td>\n",
       "    </tr>\n",
       "    <tr>\n",
       "      <th>1</th>\n",
       "      <td>2020-03-13 10:00:00</td>\n",
       "      <td>GM0010</td>\n",
       "      <td>Delfzijl</td>\n",
       "      <td>Groningen</td>\n",
       "      <td>0</td>\n",
       "      <td>0</td>\n",
       "      <td>0</td>\n",
       "    </tr>\n",
       "    <tr>\n",
       "      <th>2</th>\n",
       "      <td>2020-03-13 10:00:00</td>\n",
       "      <td>GM0014</td>\n",
       "      <td>Groningen</td>\n",
       "      <td>Groningen</td>\n",
       "      <td>3</td>\n",
       "      <td>0</td>\n",
       "      <td>0</td>\n",
       "    </tr>\n",
       "    <tr>\n",
       "      <th>3</th>\n",
       "      <td>2020-03-13 10:00:00</td>\n",
       "      <td>GM0024</td>\n",
       "      <td>Loppersum</td>\n",
       "      <td>Groningen</td>\n",
       "      <td>0</td>\n",
       "      <td>0</td>\n",
       "      <td>0</td>\n",
       "    </tr>\n",
       "    <tr>\n",
       "      <th>4</th>\n",
       "      <td>2020-03-13 10:00:00</td>\n",
       "      <td>GM0034</td>\n",
       "      <td>Almere</td>\n",
       "      <td>Flevoland</td>\n",
       "      <td>1</td>\n",
       "      <td>1</td>\n",
       "      <td>0</td>\n",
       "    </tr>\n",
       "    <tr>\n",
       "      <th>...</th>\n",
       "      <td>...</td>\n",
       "      <td>...</td>\n",
       "      <td>...</td>\n",
       "      <td>...</td>\n",
       "      <td>...</td>\n",
       "      <td>...</td>\n",
       "      <td>...</td>\n",
       "    </tr>\n",
       "    <tr>\n",
       "      <th>99452</th>\n",
       "      <td>2020-12-08 10:00:00</td>\n",
       "      <td>NaN</td>\n",
       "      <td>NaN</td>\n",
       "      <td>Noord-Holland</td>\n",
       "      <td>295</td>\n",
       "      <td>18</td>\n",
       "      <td>2</td>\n",
       "    </tr>\n",
       "    <tr>\n",
       "      <th>99453</th>\n",
       "      <td>2020-12-08 10:00:00</td>\n",
       "      <td>NaN</td>\n",
       "      <td>NaN</td>\n",
       "      <td>Zuid-Holland</td>\n",
       "      <td>1273</td>\n",
       "      <td>35</td>\n",
       "      <td>11</td>\n",
       "    </tr>\n",
       "    <tr>\n",
       "      <th>99454</th>\n",
       "      <td>2020-12-08 10:00:00</td>\n",
       "      <td>NaN</td>\n",
       "      <td>NaN</td>\n",
       "      <td>Zeeland</td>\n",
       "      <td>6</td>\n",
       "      <td>2</td>\n",
       "      <td>1</td>\n",
       "    </tr>\n",
       "    <tr>\n",
       "      <th>99455</th>\n",
       "      <td>2020-12-08 10:00:00</td>\n",
       "      <td>NaN</td>\n",
       "      <td>NaN</td>\n",
       "      <td>Noord-Brabant</td>\n",
       "      <td>694</td>\n",
       "      <td>23</td>\n",
       "      <td>6</td>\n",
       "    </tr>\n",
       "    <tr>\n",
       "      <th>99456</th>\n",
       "      <td>2020-12-08 10:00:00</td>\n",
       "      <td>NaN</td>\n",
       "      <td>NaN</td>\n",
       "      <td>Limburg</td>\n",
       "      <td>130</td>\n",
       "      <td>8</td>\n",
       "      <td>3</td>\n",
       "    </tr>\n",
       "  </tbody>\n",
       "</table>\n",
       "<p>99457 rows × 7 columns</p>\n",
       "</div>"
      ],
      "text/plain": [
       "            Date_of_report Municipality_code Municipality_name       Province  Total_reported  Hospital_admission  Deceased\n",
       "0      2020-03-13 10:00:00            GM0003        Appingedam      Groningen               0                   0         0\n",
       "1      2020-03-13 10:00:00            GM0010          Delfzijl      Groningen               0                   0         0\n",
       "2      2020-03-13 10:00:00            GM0014         Groningen      Groningen               3                   0         0\n",
       "3      2020-03-13 10:00:00            GM0024         Loppersum      Groningen               0                   0         0\n",
       "4      2020-03-13 10:00:00            GM0034            Almere      Flevoland               1                   1         0\n",
       "...                    ...               ...               ...            ...             ...                 ...       ...\n",
       "99452  2020-12-08 10:00:00               NaN               NaN  Noord-Holland             295                  18         2\n",
       "99453  2020-12-08 10:00:00               NaN               NaN   Zuid-Holland            1273                  35        11\n",
       "99454  2020-12-08 10:00:00               NaN               NaN        Zeeland               6                   2         1\n",
       "99455  2020-12-08 10:00:00               NaN               NaN  Noord-Brabant             694                  23         6\n",
       "99456  2020-12-08 10:00:00               NaN               NaN        Limburg             130                   8         3\n",
       "\n",
       "[99457 rows x 7 columns]"
      ]
     },
     "execution_count": 80,
     "metadata": {},
     "output_type": "execute_result"
    }
   ],
   "source": [
    "df= pd.read_csv(RAWPATH /'national_cumulative_raw.csv',index_col=0)\n",
    "df"
   ]
  },
  {
   "cell_type": "code",
   "execution_count": 72,
   "metadata": {},
   "outputs": [
    {
     "data": {
      "text/plain": [
       "PosixPath('/Users/srdpsrknth/OneDrive/CovidDash/covid19dash/raw-data/national_cumulative_raw.csv')"
      ]
     },
     "execution_count": 72,
     "metadata": {},
     "output_type": "execute_result"
    }
   ],
   "source": []
  },
  {
   "cell_type": "code",
   "execution_count": null,
   "metadata": {},
   "outputs": [],
   "source": []
  }
 ],
 "metadata": {
  "kernelspec": {
   "display_name": "Python 3",
   "language": "python",
   "name": "python3"
  },
  "language_info": {
   "codemirror_mode": {
    "name": "ipython",
    "version": 3
   },
   "file_extension": ".py",
   "mimetype": "text/x-python",
   "name": "python",
   "nbconvert_exporter": "python",
   "pygments_lexer": "ipython3",
   "version": "3.8.3"
  }
 },
 "nbformat": 4,
 "nbformat_minor": 4
}
