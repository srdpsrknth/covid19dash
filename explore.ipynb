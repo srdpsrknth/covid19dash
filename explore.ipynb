{
 "cells": [
  {
   "cell_type": "markdown",
   "metadata": {},
   "source": [
    "# Oil and Gas Visualization/Dashboard"
   ]
  },
  {
   "cell_type": "markdown",
   "metadata": {},
   "source": [
    "### Import required libraries"
   ]
  },
  {
   "cell_type": "code",
   "execution_count": 1,
   "metadata": {
    "inputHidden": false,
    "outputHidden": false
   },
   "outputs": [
    {
     "ename": "ImportError",
     "evalue": "\nThe plotly.plotly module is deprecated,\nplease install the chart-studio package and use the\nchart_studio.plotly module instead. \n",
     "output_type": "error",
     "traceback": [
      "\u001b[0;31m---------------------------------------------------------------------------\u001b[0m",
      "\u001b[0;31mImportError\u001b[0m                               Traceback (most recent call last)",
      "\u001b[0;32m<ipython-input-1-ba3556d4dc24>\u001b[0m in \u001b[0;36m<module>\u001b[0;34m\u001b[0m\n\u001b[1;32m      1\u001b[0m \u001b[0;32mimport\u001b[0m \u001b[0mnumpy\u001b[0m \u001b[0;32mas\u001b[0m \u001b[0mnp\u001b[0m\u001b[0;34m\u001b[0m\u001b[0;34m\u001b[0m\u001b[0m\n\u001b[1;32m      2\u001b[0m \u001b[0;32mimport\u001b[0m \u001b[0mpandas\u001b[0m \u001b[0;32mas\u001b[0m \u001b[0mpd\u001b[0m\u001b[0;34m\u001b[0m\u001b[0;34m\u001b[0m\u001b[0m\n\u001b[0;32m----> 3\u001b[0;31m \u001b[0;32mimport\u001b[0m \u001b[0mplotly\u001b[0m\u001b[0;34m.\u001b[0m\u001b[0mplotly\u001b[0m \u001b[0;32mas\u001b[0m \u001b[0mpy\u001b[0m\u001b[0;34m\u001b[0m\u001b[0;34m\u001b[0m\u001b[0m\n\u001b[0m\u001b[1;32m      4\u001b[0m \u001b[0;32mimport\u001b[0m \u001b[0mplotly\u001b[0m\u001b[0;34m.\u001b[0m\u001b[0moffline\u001b[0m \u001b[0;32mas\u001b[0m \u001b[0mpyo\u001b[0m\u001b[0;34m\u001b[0m\u001b[0;34m\u001b[0m\u001b[0m\n\u001b[1;32m      5\u001b[0m \u001b[0;32mimport\u001b[0m \u001b[0mcufflinks\u001b[0m \u001b[0;32mas\u001b[0m \u001b[0mcf\u001b[0m\u001b[0;34m\u001b[0m\u001b[0;34m\u001b[0m\u001b[0m\n",
      "\u001b[0;32m~/opt/anaconda3/lib/python3.8/site-packages/plotly/plotly/__init__.py\u001b[0m in \u001b[0;36m<module>\u001b[0;34m\u001b[0m\n\u001b[1;32m      2\u001b[0m \u001b[0;32mfrom\u001b[0m \u001b[0m_plotly_future_\u001b[0m \u001b[0;32mimport\u001b[0m \u001b[0m_chart_studio_error\u001b[0m\u001b[0;34m\u001b[0m\u001b[0;34m\u001b[0m\u001b[0m\n\u001b[1;32m      3\u001b[0m \u001b[0;34m\u001b[0m\u001b[0m\n\u001b[0;32m----> 4\u001b[0;31m \u001b[0m_chart_studio_error\u001b[0m\u001b[0;34m(\u001b[0m\u001b[0;34m\"plotly\"\u001b[0m\u001b[0;34m)\u001b[0m\u001b[0;34m\u001b[0m\u001b[0;34m\u001b[0m\u001b[0m\n\u001b[0m",
      "\u001b[0;32m~/opt/anaconda3/lib/python3.8/site-packages/_plotly_future_/__init__.py\u001b[0m in \u001b[0;36m_chart_studio_error\u001b[0;34m(submodule)\u001b[0m\n\u001b[1;32m     41\u001b[0m \u001b[0;34m\u001b[0m\u001b[0m\n\u001b[1;32m     42\u001b[0m \u001b[0;32mdef\u001b[0m \u001b[0m_chart_studio_error\u001b[0m\u001b[0;34m(\u001b[0m\u001b[0msubmodule\u001b[0m\u001b[0;34m)\u001b[0m\u001b[0;34m:\u001b[0m\u001b[0;34m\u001b[0m\u001b[0;34m\u001b[0m\u001b[0m\n\u001b[0;32m---> 43\u001b[0;31m     raise ImportError(\n\u001b[0m\u001b[1;32m     44\u001b[0m         \"\"\"\n\u001b[1;32m     45\u001b[0m \u001b[0mThe\u001b[0m \u001b[0mplotly\u001b[0m\u001b[0;34m.\u001b[0m\u001b[0;34m{\u001b[0m\u001b[0msubmodule\u001b[0m\u001b[0;34m}\u001b[0m \u001b[0mmodule\u001b[0m \u001b[0;32mis\u001b[0m \u001b[0mdeprecated\u001b[0m\u001b[0;34m,\u001b[0m\u001b[0;34m\u001b[0m\u001b[0;34m\u001b[0m\u001b[0m\n",
      "\u001b[0;31mImportError\u001b[0m: \nThe plotly.plotly module is deprecated,\nplease install the chart-studio package and use the\nchart_studio.plotly module instead. \n"
     ]
    }
   ],
   "source": [
    "import numpy as np\n",
    "import pandas as pd\n",
    "import plotly.express as py\n",
    "import plotly.offline as pyo\n",
    "import cufflinks as cf"
   ]
  },
  {
   "cell_type": "markdown",
   "metadata": {},
   "source": [
    "### Import New York State dataset"
   ]
  },
  {
   "cell_type": "code",
   "execution_count": 63,
   "metadata": {
    "inputHidden": false,
    "outputHidden": false
   },
   "outputs": [
    {
     "data": {
      "text/plain": [
       "(41716, 52)"
      ]
     },
     "execution_count": 63,
     "metadata": {},
     "output_type": "execute_result"
    }
   ],
   "source": [
    "df = pd.read_csv('data/wellspublic.csv', low_memory=False)\n",
    "df.shape"
   ]
  },
  {
   "cell_type": "code",
   "execution_count": 64,
   "metadata": {
    "inputHidden": false,
    "outputHidden": false
   },
   "outputs": [
    {
     "data": {
      "text/plain": [
       "Index(['API_WellNo', 'Cnty', 'Hole', 'SideTrck', 'Completion', 'Well_Name',\n",
       "       'Company_name', 'Operator_number', 'Well_Type', 'Map_Symbol',\n",
       "       'Well_Status', 'Date_Status', 'Date_Permit_Application',\n",
       "       'Permit_Issued', 'Date_Spudded', 'Date_Total_Depth',\n",
       "       'Date_Well_Completed', 'Date_well_plugged', 'Date_well_confidential',\n",
       "       'confid', 'town', 'quad', 'quadsec', 'Producing_name',\n",
       "       'Producing_formation', 'Financial_security', 'Slant', 'County',\n",
       "       'Region', 'State_lease', 'Proposed_depth', 'Surface_location',\n",
       "       'Surface_Longitude', 'Surface_latitude', 'Bottom_hole_location',\n",
       "       'Bottom_hole_longitude', 'Bottom_hole_latitude', 'True_vertical_depth',\n",
       "       'Measured_depth', 'Kickoff', 'DrilledDepth', 'Elevation',\n",
       "       'Original_well_type', 'Permit_Fee', 'Objective_formation', 'Depth_Fee',\n",
       "       'Spacing', 'Spacing_Acres', 'Integration', 'Dt_Hearing', 'Dt_Mod',\n",
       "       'LINK'],\n",
       "      dtype='object')"
      ]
     },
     "execution_count": 64,
     "metadata": {},
     "output_type": "execute_result"
    }
   ],
   "source": [
    "df.columns"
   ]
  },
  {
   "cell_type": "markdown",
   "metadata": {},
   "source": [
    "### Make scattermapbox map"
   ]
  },
  {
   "cell_type": "code",
   "execution_count": 65,
   "metadata": {
    "inputHidden": false,
    "outputHidden": false
   },
   "outputs": [],
   "source": [
    "types = dict(\n",
    "    BR = 'Brine',\n",
    "    Confidential = 'Confidential',\n",
    "    DH = 'Dry Hole',\n",
    "    DS = 'Disposal',\n",
    "    DW = 'Dry Wildcat',\n",
    "    GD = 'Gas Development',\n",
    "    GE = 'Gas Extension',\n",
    "    GW = 'Gas Wildcat',\n",
    "    IG = 'Gas Injection Well',\n",
    "    IW = 'Enhanced Oil Recovery - Injection',\n",
    "    LP = 'Liquefied Petroleum Gas Storage',\n",
    "    MB = 'Monitoring Brine',\n",
    "    MM = 'Monitoring Miscellaneous',\n",
    "    MS = 'Monitoring Storage',\n",
    "    NL = 'Not Listed',\n",
    "    OB = 'Observation Well',\n",
    "    OD = 'Oil Development',\n",
    "    OE = 'Oil Extension',\n",
    "    OW = 'Oil Wildcat',\n",
    "    SG = 'Stratigraphic',\n",
    "    ST = 'Storage',\n",
    "    TH = 'Geothermal',\n",
    "    UN = 'Unknown',\n",
    ")\n",
    "\n",
    "traces = []\n",
    "for well, df in df.groupby('Well_Type'):\n",
    "    trace = dict(\n",
    "        type = 'scattermapbox',\n",
    "        lon = df['Surface_Longitude'],\n",
    "        lat = df['Surface_latitude'],\n",
    "        text = df['Well_Name'],\n",
    "        name = types[well],\n",
    "        marker = dict(\n",
    "            size = 4,\n",
    "            opacity = 0.6,\n",
    "        )\n",
    "    )\n",
    "    traces.append(trace)\n",
    "\n",
    "# trace = dict(\n",
    "#     type = 'scattermapbox',\n",
    "#     lon = df['Surface_Longitude'],\n",
    "#     lat = df['Surface_latitude'],\n",
    "#     name = df['Well_Name'],\n",
    "# )\n",
    "\n",
    "# traces = [trace]"
   ]
  },
  {
   "cell_type": "code",
   "execution_count": 66,
   "metadata": {
    "inputHidden": false,
    "outputHidden": false
   },
   "outputs": [],
   "source": [
    "mapbox_access_token = 'pk.eyJ1IjoiamFja2x1byIsImEiOiJjaXhzYTB0bHcwOHNoMnFtOWZ3YWdreDB3In0.pjROwb9_CEuyKPE-x0lRUw'\n",
    "\n",
    "layout = dict(\n",
    "\n",
    "    title = \"New York Oil and Gas map\",\n",
    "\n",
    "    # GENERAL LAYOUT\n",
    "    width = 1280,\n",
    "    height = 720,\n",
    "    autosize = True,\n",
    "    font = dict(\n",
    "        family = \"Overpass\",\n",
    "        size = 12,\n",
    "        color = '#CCCCCC',\n",
    "    ),\n",
    "    margin = dict(\n",
    "        t = 80,\n",
    "        l = 40,\n",
    "        b = 40,\n",
    "        r = 120,\n",
    "        pad = 0, \n",
    "    ),\n",
    "\n",
    "    # OPTIONAL\n",
    "    hovermode = \"closest\",\n",
    "    \n",
    "    # COLOR THEME\n",
    "    plot_bgcolor = \"#191A1A\",\n",
    "    paper_bgcolor = \"#020202\",\n",
    "    \n",
    "    # LEGEND\n",
    "    legend = dict(\n",
    "        x = 1.02,\n",
    "        y = 1,\n",
    "        font = dict(size = 10),\n",
    "    ),\n",
    "\n",
    "    # MAPBOX\n",
    "    mapbox = dict(\n",
    "        accesstoken = mapbox_access_token,\n",
    "        style = \"dark\",\n",
    "        center = dict(\n",
    "            lon = -76.40,\n",
    "            lat = 42.70,\n",
    "        ),\n",
    "        zoom = 5.5,\n",
    "    ),\n",
    "\n",
    ")"
   ]
  },
  {
   "cell_type": "code",
   "execution_count": 68,
   "metadata": {
    "inputHidden": false,
    "outputHidden": false
   },
   "outputs": [
    {
     "data": {
      "text/plain": [
       "'https://plot.ly/~jackluo/3594'"
      ]
     },
     "execution_count": 68,
     "metadata": {},
     "output_type": "execute_result"
    }
   ],
   "source": [
    "figure = dict(data=traces, layout=layout)\n",
    "py.plot(figure, filename='Oil map')"
   ]
  }
 ],
 "metadata": {
  "kernel_info": {
   "name": "python3"
  },
  "kernelspec": {
   "display_name": "Python 3",
   "language": "python",
   "name": "python3"
  },
  "language_info": {
   "codemirror_mode": {
    "name": "ipython",
    "version": 3
   },
   "file_extension": ".py",
   "mimetype": "text/x-python",
   "name": "python",
   "nbconvert_exporter": "python",
   "pygments_lexer": "ipython3",
   "version": "3.8.3"
  }
 },
 "nbformat": 4,
 "nbformat_minor": 4
}
